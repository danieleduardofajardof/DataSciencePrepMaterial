{
  "nbformat": 4,
  "nbformat_minor": 0,
  "metadata": {
    "colab": {
      "provenance": [],
      "authorship_tag": "ABX9TyOYCYmNPwBJXrh/gv+4NKo4",
      "include_colab_link": true
    },
    "kernelspec": {
      "name": "python3",
      "display_name": "Python 3"
    },
    "language_info": {
      "name": "python"
    }
  },
  "cells": [
    {
      "cell_type": "markdown",
      "metadata": {
        "id": "view-in-github",
        "colab_type": "text"
      },
      "source": [
        "<a href=\"https://colab.research.google.com/github/danieleduardofajardof/DataSciencePrepMaterial/blob/main/Prob_2.ipynb\" target=\"_parent\"><img src=\"https://colab.research.google.com/assets/colab-badge.svg\" alt=\"Open In Colab\"/></a>"
      ]
    },
    {
      "cell_type": "code",
      "execution_count": 2,
      "metadata": {
        "id": "MHIudPc6pksO"
      },
      "outputs": [],
      "source": []
    },
    {
      "cell_type": "markdown",
      "source": [
        "# 2. Probability Theory\n",
        "\n",
        "## 1. Basic Probability Concepts\n",
        "- **Experiment:** Any procedure that yields an outcome.\n",
        "- **Sample Space (S):** The set of all possible outcomes.\n",
        "- **Event:** A subset of the sample space.\n",
        "- **Probability of Event A ($P(A)$):**\n",
        "\n",
        "  $$\n",
        "  0 \\leq P(A) \\leq 1, \\quad \\sum P(A_i) = 1\n",
        "  $$\n",
        "\n",
        "---\n",
        "\n",
        "## 2. Random Variables and Distributions\n",
        "- **Random Variable (RV):** A variable that takes values based on the outcome of a random experiment.\n",
        "  - **Discrete RV:** Countable values (e.g., rolling dice).\n",
        "  - **Continuous RV:** Infinite values over a range (e.g., height, weight).\n",
        "- **Probability Distribution:** Function that gives probabilities for each possible value.\n",
        "  - **PMF (Probability Mass Function):** For discrete RVs.\n",
        "  - **PDF (Probability Density Function):** For continuous RVs.\n",
        "  - **CDF (Cumulative Distribution Function):**\n",
        "\n",
        "    $$\n",
        "    F(x) = P(X \\leq x)\n",
        "    $$\n",
        "\n",
        "---\n",
        "\n",
        "## 3. Probability Rules\n",
        "- **Addition Rule (for any events A and B):**\n",
        "\n",
        "  $$\n",
        "  P(A \\cup B) = P(A) + P(B) - P(A \\cap B)\n",
        "  $$\n",
        "\n",
        "- **Multiplication Rule (for independent events):**\n",
        "\n",
        "  $$\n",
        "  P(A \\cap B) = P(A) \\cdot P(B)\n",
        "  $$\n",
        "\n",
        "- **Complement Rule:**\n",
        "\n",
        "  $$\n",
        "  P(A^c) = 1 - P(A)\n",
        "  $$\n",
        "\n",
        "- **Independence:** Events A and B are independent if\n",
        "\n",
        "  $$\n",
        "  P(A \\cap B) = P(A)P(B)\n",
        "  $$\n",
        "\n",
        "- **Expected Value (Mean):**\n",
        "  - Discrete:\n",
        "\n",
        "    $$\n",
        "    \\mathbb{E}[X] = \\sum x \\cdot P(x)\n",
        "    $$\n",
        "\n",
        "  - Continuous:\n",
        "\n",
        "    $$\n",
        "    \\mathbb{E}[X] = \\int x \\cdot f(x) \\, dx\n",
        "    $$\n",
        "\n",
        "- **Variance:**\n",
        "\n",
        "  $$\n",
        "  \\text{Var}(X) = \\mathbb{E}[(X - \\mathbb{E}[X])^2] = \\mathbb{E}[X^2] - (\\mathbb{E}[X])^2\n",
        "  $$\n",
        "\n",
        "---\n",
        "\n",
        "## 4. Conditional Probability and Bayes’ Theorem\n",
        "- **Conditional Probability:**\n",
        "\n",
        "  $$\n",
        "  P(A|B) = \\frac{P(A \\cap B)}{P(B)}\n",
        "  $$\n",
        "\n",
        "- **Bayes’ Theorem:**\n",
        "\n",
        "  $$\n",
        "  P(A|B) = \\frac{P(B|A)P(A)}{P(B)}\n",
        "  $$\n",
        "\n",
        "  - Used for updating beliefs based on evidence.\n",
        "\n",
        "---\n",
        "\n",
        "## 5. Hypothesis Testing\n",
        "- **Null Hypothesis ($H_0$):** Default assumption (e.g., no effect).\n",
        "- **Alternative Hypothesis ($H_1$):** What you want to prove.\n",
        "- **Test Statistic:** A value calculated from sample data.\n",
        "- **p-value:** Probability of observing a result as extreme as the sample under $H_0$.\n",
        "  - If $p < \\alpha$, reject $H_0$.\n",
        "- **Type I Error (False Positive):** Rejecting $H_0$ when it’s true.\n",
        "- **Type II Error (False Negative):** Failing to reject $H_0$ when $H_1$ is true.\n",
        "- **Common Tests:**\n",
        "  - Z-test\n",
        "  - t-test\n",
        "  - Chi-square test\n",
        "  - ANOVA\n"
      ],
      "metadata": {
        "id": "7EGY1lWL1Bd4"
      }
    },
    {
      "cell_type": "markdown",
      "source": [
        "## Hypothesis Testing (Detailed Guide)\n",
        "\n",
        "### What is Hypothesis Testing?\n",
        "\n",
        "Hypothesis testing is a statistical method used to make decisions about a population based on sample data. It helps answer questions like: _Is there enough evidence to support a claim?_\n",
        "\n",
        "---\n",
        "\n",
        "### Key Concepts\n",
        "\n",
        "- **Null Hypothesis ($H_0$):** The default assumption.  \n",
        "  _Example: The new drug has no effect._\n",
        "\n",
        "- **Alternative Hypothesis ($H_1$):** The statement you want to test or prove.  \n",
        "  _Example: The new drug has a positive effect._\n",
        "\n",
        "- **Test Statistic:** A value calculated from sample data used to decide whether to reject $H_0$.\n",
        "\n",
        "- **p-value:** The probability of obtaining results at least as extreme as the observed results under $H_0$.\n",
        "\n",
        "- **Significance Level ($\\alpha$):** A threshold (commonly 0.05). If $p < \\alpha$, reject $H_0$.\n",
        "\n",
        "- **Type I Error:** Rejecting $H_0$ when it's actually true (false positive).\n",
        "\n",
        "- **Type II Error:** Failing to reject $H_0$ when $H_1$ is true (false negative).\n",
        "\n",
        "---\n",
        "\n",
        "## Common Tests with Examples\n",
        "\n",
        "---\n",
        "\n",
        "### 1. Z-test (One-sample, known population std)\n",
        "\n",
        "#### Example:\n",
        "\n",
        "You want to test if a sample of students' average IQ (sample mean = 103) is different from the population mean of 100.  \n",
        "Assume known population standard deviation $\\sigma = 15$ and $n = 50$.\n",
        "\n",
        "#### Hypotheses:\n",
        "\n",
        "- $H_0$: $\\mu = 100$  \n",
        "- $H_1$: $\\mu \\neq 100$ (two-tailed)\n",
        "\n",
        "#### Test Statistic:\n",
        "\n",
        "$$\n",
        "z = \\frac{\\bar{x} - \\mu_0}{\\sigma / \\sqrt{n}} = \\frac{103 - 100}{15 / \\sqrt{50}} \\approx 1.414\n",
        "$$"
      ],
      "metadata": {
        "id": "VZZyC5-i11rn"
      }
    },
    {
      "cell_type": "code",
      "source": [
        "import scipy.stats as stats\n",
        "import numpy as np\n",
        "\n",
        "mu = 100\n",
        "sample_mean = 103\n",
        "sigma = 15\n",
        "n = 50\n",
        "\n",
        "z = (sample_mean - mu) / (sigma / np.sqrt(n))\n",
        "p_value = 2 * (1 - stats.norm.cdf(abs(z)))\n",
        "\n",
        "print(f\"Z-score: {z:.3f}\")\n",
        "print(f\"P-value: {p_value:.3f}\")"
      ],
      "metadata": {
        "colab": {
          "base_uri": "https://localhost:8080/"
        },
        "id": "8xcUNnrL1Cmx",
        "outputId": "25d69a73-2ca9-4cf8-e95a-cb60e1fb61da"
      },
      "execution_count": 3,
      "outputs": [
        {
          "output_type": "stream",
          "name": "stdout",
          "text": [
            "Z-score: 1.414\n",
            "P-value: 0.157\n"
          ]
        }
      ]
    },
    {
      "cell_type": "markdown",
      "source": [
        "---\n",
        "### 2. t-test (One-sample, unknown population std)\n",
        "\n",
        "#### Example:\n",
        "A sample of 20 students had an average score of 78 with a sample standard deviation of 10. Is the average score different from 75?\n",
        "\n",
        "#### Hypotheses:\n",
        "\n",
        "- $H_0$: $\\mu = 75$\n",
        "\n",
        "- $H_1$: $\\mu \\neq 75$\n"
      ],
      "metadata": {
        "id": "Fd2e1OCl70mp"
      }
    },
    {
      "cell_type": "code",
      "source": [
        "from scipy.stats import ttest_1samp\n",
        "\n",
        "data = [78, 80, 75, 72, 76, 85, 79, 83, 77, 74, 76, 81, 75, 78, 80, 79, 82, 76, 74, 77]\n",
        "t_stat, p_val = ttest_1samp(data, popmean=75)\n",
        "\n",
        "print(f\"T-statistic: {t_stat:.3f}\")\n",
        "print(f\"P-value: {p_val:.3f}\")"
      ],
      "metadata": {
        "colab": {
          "base_uri": "https://localhost:8080/"
        },
        "id": "P-yv0lwk8gK3",
        "outputId": "5951df2e-d2c6-4d0c-c122-3a6cc7cb1203"
      },
      "execution_count": 4,
      "outputs": [
        {
          "output_type": "stream",
          "name": "stdout",
          "text": [
            "T-statistic: 3.847\n",
            "P-value: 0.001\n"
          ]
        }
      ]
    },
    {
      "cell_type": "markdown",
      "source": [
        "---\n",
        "### 3. Chi-Square Test (Goodness of Fit)\n",
        "Example:\n",
        "You roll a die 60 times. Observed outcomes: [8, 9, 10, 11, 12, 10]\n",
        "Expected outcome for fair die: [10, 10, 10, 10, 10, 10]\n",
        "\n",
        "Hypotheses:\n",
        "\n",
        "- $H_0$: The die is fair\n",
        "\n",
        "- $H_1$: The die is not fair"
      ],
      "metadata": {
        "id": "Ts4NkoMK8j_b"
      }
    },
    {
      "cell_type": "code",
      "source": [
        "from scipy.stats import chisquare\n",
        "\n",
        "observed = [8, 9, 10, 11, 12, 10]\n",
        "expected = [10] * 6\n",
        "\n",
        "chi_stat, p_val = chisquare(f_obs=observed, f_exp=expected)\n",
        "\n",
        "print(f\"Chi-square statistic: {chi_stat:.3f}\")\n",
        "print(f\"P-value: {p_val:.3f}\")"
      ],
      "metadata": {
        "colab": {
          "base_uri": "https://localhost:8080/"
        },
        "id": "8WuNPA-s8zKb",
        "outputId": "5a734d78-2391-4533-935c-eabafd747146"
      },
      "execution_count": 5,
      "outputs": [
        {
          "output_type": "stream",
          "name": "stdout",
          "text": [
            "Chi-square statistic: 1.000\n",
            "P-value: 0.963\n"
          ]
        }
      ]
    },
    {
      "cell_type": "markdown",
      "source": [
        "---\n",
        "### 4. ANOVA (Analysis of Variance)\n",
        "#### Example:\n",
        "You want to test if three different teaching methods lead to different exam scores.\n",
        "\n",
        "Data (Scores grouped by teaching method):"
      ],
      "metadata": {
        "id": "zPzUP6gX9q0t"
      }
    },
    {
      "cell_type": "code",
      "source": [
        "from scipy.stats import f_oneway\n",
        "\n",
        "group1 = [85, 86, 88, 75, 78]\n",
        "group2 = [80, 82, 84, 81, 83]\n",
        "group3 = [78, 79, 77, 76, 75]\n",
        "\n",
        "f_stat, p_val = f_oneway(group1, group2, group3)\n",
        "\n",
        "print(f\"F-statistic: {f_stat:.3f}\")\n",
        "print(f\"P-value: {p_val:.3f}\")\n"
      ],
      "metadata": {
        "colab": {
          "base_uri": "https://localhost:8080/"
        },
        "id": "ylqY4UVm90Wm",
        "outputId": "3f4634cd-6d22-43e9-ac5a-f4f825cde7b7"
      },
      "execution_count": 6,
      "outputs": [
        {
          "output_type": "stream",
          "name": "stdout",
          "text": [
            "F-statistic: 3.741\n",
            "P-value: 0.055\n"
          ]
        }
      ]
    },
    {
      "cell_type": "markdown",
      "source": [
        "#### Hypotheses:\n",
        "- $H_0$: All group means are equal\n",
        "\n",
        "- $H_1$: At least one group mean is different\n",
        "\n",
        "| Test Type   | Use Case                        | Assumptions                                  |\n",
        "|-------------|----------------------------------|-----------------------------------------------|\n",
        "| Z-test      | One sample, known std            | Normal distribution, known $\\sigma$           |\n",
        "| t-test      | One or two samples, unknown std  | Normal distribution, unknown $\\sigma$         |\n",
        "| Chi-Square  | Categorical data                 | Large sample size, expected freq > 5          |\n",
        "| ANOVA       | Compare means across 3+ groups   | Equal variances, normality of each group      |\n"
      ],
      "metadata": {
        "id": "BcnYH3J4-XuP"
      }
    },
    {
      "cell_type": "code",
      "source": [
        "import matplotlib.pyplot as plt\n",
        "import numpy as np\n",
        "import scipy.stats as stats\n",
        "x = np.linspace(-4, 4, 1000)\n",
        "y = stats.norm.pdf(x)\n",
        "\n",
        "plt.plot(x, y, label='Normal Distribution')\n",
        "plt.axvline(z, color='red', linestyle='--', label=f'z = {z:.2f}')\n",
        "plt.fill_between(x, y, where=(x > abs(z)), color='red', alpha=0.3)\n",
        "plt.fill_between(x, y, where=(x < -abs(z)), color='red', alpha=0.3)\n",
        "plt.title(\"P-value Region\")\n",
        "plt.legend()\n",
        "plt.show()\n"
      ],
      "metadata": {
        "colab": {
          "base_uri": "https://localhost:8080/",
          "height": 452
        },
        "id": "nz-tqfaV-uyT",
        "outputId": "dd925833-ad86-467d-d710-c0f83256f87e"
      },
      "execution_count": 7,
      "outputs": [
        {
          "output_type": "display_data",
          "data": {
            "text/plain": [
              "<Figure size 640x480 with 1 Axes>"
            ],
            "image/png": "[encoded data removed]"
          },
          "metadata": {}
        }
      ]
    },
    {
      "cell_type": "code",
      "source": [],
      "metadata": {
        "id": "KXI4z70F-yGj"
      },
      "execution_count": 7,
      "outputs": []
    }
  ]
}
